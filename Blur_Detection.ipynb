{
 "cells": [
  {
   "cell_type": "markdown",
   "metadata": {},
   "source": [
    "# Grupo\n",
    "1. Arthur Querido Lopes                            11711ECP014\n",
    "2. Felipe Junio Rezende                            11711ECP007\n",
    "3. Marina Candeo Medeiros e Silva                  11621ECP006\n"
   ]
  },
  {
   "cell_type": "markdown",
   "metadata": {},
   "source": [
    "### Importação das bibliotecas"
   ]
  },
  {
   "cell_type": "code",
   "execution_count": 1,
   "metadata": {},
   "outputs": [],
   "source": [
    "import cv2\n",
    "import numpy as np\n",
    "import matplotlib.pyplot as plt\n",
    "from ipywidgets import interact_manual, fixed\n",
    "import scipy.signal\n",
    "from IPython.display import clear_output"
   ]
  },
  {
   "cell_type": "markdown",
   "metadata": {},
   "source": [
    "### Definição do kernel (filtros)"
   ]
  },
  {
   "cell_type": "code",
   "execution_count": 2,
   "metadata": {},
   "outputs": [],
   "source": [
    "kernel = {\n",
    "    'identity': np.array([[0,0,0],[0,1,0],[0,0,0]], dtype=float),\n",
    "    'edge detection': np.array([[1,0,-1],[0,0,0],[-1,0,1]], dtype=float),\n",
    "    'laplacian': np.array([[0,-1,0],[-1,4,-1],[0,-1,0]], dtype=float),\n",
    "    'laplacian w/ diagonals': np.array([[-1,-1,-1],[-1,8,-1],[-1,-1,-1]], dtype=float),\n",
    "    'laplacian of gaussian': np.array([[0,0,-1,0,0],[0,-1,-2,-1,0],[-1,-2,16,-2,-1],[0,-1,-2,-1,0],[0,0,-1,0,0]], dtype=float),\n",
    "    'scharr': np.array([[-3, 0, 3],[-10,0,10],[-3, 0, 3]], dtype=float),\n",
    "    'sobel edge horizontal': np.array([[-1,-2,-1],[0,0,0],[1,2,1]], dtype=float),\n",
    "    'sobel edge vertical': np.array([[-1,0,1],[-2,0,2],[-1,0,1]], dtype=float),\n",
    "    'line detection horizontal': np.array([[-1,-1,-1],[2,2,2],[-1,-1,-1]], dtype=float),\n",
    "    'line detection vertical': np.array([[-1,2,-1],[-1,2,-1],[-1,2,-1]], dtype=float),\n",
    "    'line detection 45°': np.array([[-1,-1,2],[-1,2,-1],[2,-1,-1]], dtype=float),\n",
    "    'line detection 135°': np.array([[2,-1,-1],[-1,2,-1],[-1,-1,2]], dtype=float),\n",
    "    'box blur': (1/9)*np.ones((3,3), dtype=float),\n",
    "    'gaussian blur 3x3': (1/16)*np.array([[1,2,1],[2,4,2],[1,2,1]], dtype=float),\n",
    "    'gaussian blur 5x5': (1/256)*np.array([[1,4,6,4,1],[4,16,24,16,4],[6,24,36,24,6],[4,16,24,16,4],[1,4,6,4,1]], dtype=float),\n",
    "    'sharpen': np.array([[0,-1,0],[-1,5,-1],[0,-1,0]], dtype=float),\n",
    "    'unsharp masking': (-1/256)*np.array([[1,4,6,4,1],[4,16,24,16,4],[6,24,-476,24,6],[4,16,24,16,4],[1,4,6,4,1]], dtype=float),\n",
    "}"
   ]
  },
  {
   "cell_type": "markdown",
   "metadata": {},
   "source": [
    "### Implementação dos filtros e do detecção de blur"
   ]
  },
  {
   "cell_type": "code",
   "execution_count": 3,
   "metadata": {},
   "outputs": [
    {
     "data": {
      "application/vnd.jupyter.widget-view+json": {
       "model_id": "a2921e80805f4ff1a6d171e60fabb6fb",
       "version_major": 2,
       "version_minor": 0
      },
      "text/plain": [
       "interactive(children=(Dropdown(description='filtro', options=('identity', 'edge detection', 'laplacian', 'lapl…"
      ]
     },
     "metadata": {},
     "output_type": "display_data"
    },
    {
     "data": {
      "text/plain": [
       "<function __main__.blur_and_filters(filtro, show_magnitude, threshold=9)>"
      ]
     },
     "execution_count": 3,
     "metadata": {},
     "output_type": "execute_result"
    }
   ],
   "source": [
    "def detect_blur_fft(image, thresh, show_magnitude, size=50):\n",
    "    h, w = image.shape\n",
    "    (cX, cY) = (int(w / 2.0), int(h / 2.0))\n",
    "\n",
    "    spec = np.fft.fft2(image)\n",
    "    specShift = np.fft.fftshift(spec) \n",
    "    specShift[cY - size:cY + size, cX - size:cX + size] = 0\n",
    "    specShift = np.fft.ifftshift(specShift)\n",
    "    img_reconstructed = np.fft.ifft2(specShift)\n",
    "    \n",
    "    magnitude = 20 * np.log(np.abs(img_reconstructed))\n",
    "    mean = np.mean(magnitude)\n",
    "    \n",
    "    if show_magnitude:\n",
    "        plt.figure(figsize=(6,6))\n",
    "        plt.imshow(magnitude, cmap='plasma')\n",
    "        plt.show()\n",
    "        clear_output(wait=True)\n",
    "    return (mean, mean <= thresh)\n",
    "\n",
    "def blur_and_filters(filtro, show_magnitude, threshold = 9):\n",
    "    cap = cv2.VideoCapture(0)\n",
    "    if (cap.isOpened()== False): \n",
    "        print(\"Error opening video stream or file\")\n",
    "    while(cap.isOpened()):\n",
    "        ret, frame = cap.read()\n",
    "        if ret == True:\n",
    "            gray = cv2.cvtColor(frame, cv2.COLOR_BGR2GRAY)\n",
    "            conv = np.uint8(np.round(scipy.signal.convolve2d(gray, kernel[filtro], boundary='fill', fillvalue =0)))\n",
    "            (mean, blurry) = detect_blur_fft(gray, threshold, show_magnitude)\n",
    "            \n",
    "            cv2.putText(conv, str(round(mean,2)), (20, 30), cv2.FONT_HERSHEY_SIMPLEX, 1, (0, 0, 255), 2)\n",
    "            if blurry:\n",
    "                cv2.putText(conv, ' Blurry', (120, 30), cv2.FONT_HERSHEY_SIMPLEX, 1, (0, 0, 255), 2)\n",
    "\n",
    "            cv2.imshow('Frame', conv)\n",
    "            if cv2.waitKey(25) & 0xFF == ord('q'):\n",
    "                break\n",
    "        else:\n",
    "            break\n",
    "    cap.release()\n",
    "    cv2.destroyAllWindows()\n",
    "    \n",
    "interact_manual(blur_and_filters, filtro=list(kernel.keys()), threshold=(5,18,1), show_magnitude=False)\n"
   ]
  }
 ],
 "metadata": {
  "kernelspec": {
   "display_name": "curso_sm",
   "language": "python",
   "name": "curso_sm"
  },
  "language_info": {
   "codemirror_mode": {
    "name": "ipython",
    "version": 3
   },
   "file_extension": ".py",
   "mimetype": "text/x-python",
   "name": "python",
   "nbconvert_exporter": "python",
   "pygments_lexer": "ipython3",
   "version": "3.6.9"
  }
 },
 "nbformat": 4,
 "nbformat_minor": 4
}
